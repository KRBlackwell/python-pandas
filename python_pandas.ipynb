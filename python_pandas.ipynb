{
  "nbformat": 4,
  "nbformat_minor": 0,
  "metadata": {
    "colab": {
      "provenance": []
    },
    "kernelspec": {
      "name": "python3",
      "display_name": "Python 3"
    },
    "language_info": {
      "name": "python"
    }
  },
  "cells": [
    {
      "cell_type": "markdown",
      "source": [
        "# Python Pandas Examples\n",
        "In progress"
      ],
      "metadata": {
        "id": "LoJ9RDaucd_o"
      }
    },
    {
      "cell_type": "code",
      "execution_count": null,
      "metadata": {
        "id": "18UjNXNLcdR9"
      },
      "outputs": [],
      "source": [
        "#importing each thing has decreased program run time - it's very small, but I'll take any improvements\n",
        "from pandas import...\n",
        "DataFrame\n",
        "read_pickle #it can read zipped pickle\n",
        "cut\n",
        "set_option\n",
        "merge\n",
        "read_csv\n",
        "isnull\n",
        "or import pandas as pd"
      ]
    },
    {
      "cell_type": "code",
      "source": [
        "set_option('display.max_columns', None)\n",
        "set_option('display.width', None)\n",
        "set_option('display.max_rows', None)\n",
        "#show reset option also"
      ],
      "metadata": {
        "id": "o0PpA1upcu6s"
      },
      "execution_count": null,
      "outputs": []
    },
    {
      "cell_type": "code",
      "source": [
        "#sas imports - mixed columns end up as a float when you want an int, so you need to code them\n",
        "#     either as pandas categorical data types (but numpy can't handle them) or you set the different\n",
        "#     flavors of missing to an integer value, I've chosen negative values\n",
        "niu_missing = -99\n",
        "dk_missing = -88\n",
        "softref_missing = -77\n",
        "ref_missing = -66\n",
        "def nan_float_int(df, strvar, strint):\n",
        "    df[strvar] = np.where(df[strvar] == 'N', niu_missing, df[strvar]) #not in universe\n",
        "    df[strvar] = np.where(df[strvar] == 'D', dk_missing, df[strvar]) #don't know\n",
        "    df[strvar] = np.where(df[strvar] == 'R', ref_missing, df[strvar]) #hard refusal\n",
        "    df[strvar] = np.where(df[strvar] == 'S', softref_missing, df[strvar]) #soft refusal\n",
        "    try:\n",
        "        df[strvar] = np.where(np.isnan(df[strvar]), blank_missing, df[strvar])\n",
        "    except:\n",
        "        df[strvar] = np.where(isnull(df[strvar]), blank_missing, df[strvar])\n",
        "    return df.astype({strvar: strint})\n",
        "df = nan_float_int(df, 'SEX', 'int8')\n",
        "#table of int8, int16 ranges"
      ],
      "metadata": {
        "id": "8X8sobEVc2c8"
      },
      "execution_count": null,
      "outputs": []
    },
    {
      "cell_type": "code",
      "source": [
        "#frequency count where\n",
        "df[df['SEX'] == 1]['POVERTY'].value_counts()"
      ],
      "metadata": {
        "id": "y0-nhIvtdB_1"
      },
      "execution_count": null,
      "outputs": []
    },
    {
      "cell_type": "code",
      "source": [
        "#let's say I have a set of values that are in one dataset and i need to check against another analysis\n",
        "# and analysis1 is the set that I consider the source of truth\n",
        "analysis1 = set(df['ID_Values1'].astype('string').values)\n",
        "analysis2 = set(df[df['myvariable_change_spec'] == 'D1.30']['IDs'].astype('string'))\n",
        "a = analysis1 - analysis2\n",
        "b = analysis2 - analysis1\n",
        "print(\"SHOULD be in my data at this point, but aren't\", a)\n",
        "print(\"should NOT be in my data at this point, but are\", b)"
      ],
      "metadata": {
        "id": "LUBQLvwWdECJ"
      },
      "execution_count": null,
      "outputs": []
    },
    {
      "cell_type": "code",
      "source": [
        "df = pd.read_csv(\"file.csv\", dtype=\"string\") #force import as string\n"
      ],
      "metadata": {
        "id": "n3mSKMYadHAW"
      },
      "execution_count": null,
      "outputs": []
    },
    {
      "cell_type": "code",
      "source": [
        "df.sort_values(by=['ID1', 'ID2', 'VAR1', 'VAR2'], ascending=True, inplace=True)"
      ],
      "metadata": {
        "id": "JlRQ8u1QdLg1"
      },
      "execution_count": null,
      "outputs": []
    },
    {
      "cell_type": "code",
      "source": [
        "#index\n",
        "df.set_index(['ID1','ID2','ID3'], inplace=True) #multiindex speeds things up\n",
        "df.reset_index(inplace=True)\n",
        "df = df.rename(columns={'AZK13': 'SEX'})"
      ],
      "metadata": {
        "id": "jIYIkViedV08"
      },
      "execution_count": null,
      "outputs": []
    },
    {
      "cell_type": "code",
      "source": [
        "df['age_recode'] = cut(x = df['AGE'], bins[-1, 4, 17, 29, 54, 199], \\\n",
        "    labels=['0-4', '5-17', '18-29', '30-54', '55+'])"
      ],
      "metadata": {
        "id": "fds5TZBzdI4N"
      },
      "execution_count": null,
      "outputs": []
    },
    {
      "cell_type": "code",
      "source": [
        "#instead of doing an apply, do something like this:\n",
        "us_country = [1, 2, 3, 4, 11]\n",
        "not_us_country = [5:10,12:35]\n",
        "d304 = df['US'].isin(us_country)\n",
        "df.loc[(universe & men & d304), 'BZ4k'] = 2"
      ],
      "metadata": {
        "id": "tuVJxi0ldRMI"
      },
      "execution_count": null,
      "outputs": []
    },
    {
      "cell_type": "code",
      "source": [
        "d103 = df['STATE'] == 11\n",
        "d104 = df['STATE'].isin(np.r_[1, 2, 4:42, 43:58])\n",
        "df.loc[(universe & d103 & ~d104), 'RSTATE'] = 2"
      ],
      "metadata": {
        "id": "eBRCQzaEdOB5"
      },
      "execution_count": null,
      "outputs": []
    },
    {
      "cell_type": "code",
      "source": [
        "#add values to dataframe with groupby, e.g. get characteristic of someone else in the same group quickly"
      ],
      "metadata": {
        "id": "8vthjdvkdaiN"
      },
      "execution_count": null,
      "outputs": []
    },
    {
      "cell_type": "code",
      "source": [],
      "metadata": {
        "id": "DdRcURp3dhPq"
      },
      "execution_count": null,
      "outputs": []
    }
  ]
}